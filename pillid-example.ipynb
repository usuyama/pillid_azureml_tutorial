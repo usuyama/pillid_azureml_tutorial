{
 "cells": [
  {
   "cell_type": "markdown",
   "metadata": {},
   "source": [
    "Copyright (c) Microsoft Corporation. All rights reserved.\n",
    "\n",
    "Licensed under the MIT License."
   ]
  },
  {
   "cell_type": "markdown",
   "metadata": {},
   "source": [
    "# Medication Identification based on Pill Images\n",
    "\n",
    "![headline image: image-based medication identification](pill_id_tutorial_head.jpg)\n",
    "\n",
    "## Problem Overview\n",
    "\n",
    "This AI tutorial focuses in an application of computer vision to help reducing medical errors. This is a very relevant problem since medical error is the [third most common cause of death in the US](https://www.bmj.com/content/353/bmj.i2139.full.pdf), instead of some disease. In specific, to avoid medication errors, it is important for patients, healthcare providers and first responders to know which medications are being taken and/or dispensed. For example, patients face challenges identifying pills when they are transferred to different containers, combined to a single container for convenience, or portioned into day-of-week pillboxes to simplify medication management. This is a common occurrence in elderly or chronic disease patients.\n",
    "\n",
    "Throughout this notebook, we'll develop a simplified deep-learning application to reduce avoidable medication errors with their attendant risk by correctly identifying prescription medication based on pill images, which currently is a tedious and error-prone task. It details how to develop a model for prescription pill identification from a subset of pills from the mobile-quality images of the [NIH NLM Pill Image Recognition Challenge dataset](https://pir.nlm.nih.gov/challenge/). The steps presented here are a simplified model based on the work presented in this Nature Digital Medicine [article for Fast and accurate medication identification](https://www.nature.com/articles/s41746-019-0086-0) and accompanying [blog article in Nature community](https://npjdigitalmedcommunity.nature.com/users/211675-jessica-lundin/posts/44881-face-recognition-for-pills).\n",
    "\n",
    "## Solution Overview\n",
    "\n",
    "This example includes the creation and preparation of a workspace, the remote cluster to work as compute resource for model training, download and placing of training data into a storage account accessible during training, and the creation and use of a [PyTorch estimator](https://docs.microsoft.com/en-us/azure/machine-learning/service/how-to-train-pytorch) to learn a pill-identification ConvNet from the data. One of the main benefits of using the Azure ML workspace is that it contains in a logical and structured manner all the compute resources, job and experiment management tools, result tracking dashboards and model prediction services that any data scientist performing machine learning development requires.\n",
    "\n",
    "The notebook contains the following sections:\n",
    "\n",
    "1. AML Workspace Setup and Create a Compute Target\n",
    "\n",
    "2. Set the Pill Training Data in Azure Storage Accessible to the Workspace\n",
    "\n",
    "3. Create Experiments and Submit a Training Run\n",
    "\n",
    "4. Analyze Training Results"
   ]
  },
  {
   "cell_type": "markdown",
   "metadata": {},
   "source": [
    "![Overview of model training on Azure ML](azureml_training_overview.png)"
   ]
  },
  {
   "cell_type": "markdown",
   "metadata": {},
   "source": [
    "## Set up your development environment\n",
    "\n",
    "All the setup for your development work can be accomplished in a Python notebook.  Setup includes:\n",
    "\n",
    "* Importing Python packages\n",
    "* Connecting to a workspace to enable communication between your local computer and remote resources\n",
    "* Creating an experiment to track all your runs\n",
    "* Creating a remote compute target to use for training\n",
    "\n",
    "### Import packages\n",
    "\n",
    "Import Python packages you need in this session. Also display the Azure Machine Learning SDK version."
   ]
  },
  {
   "cell_type": "code",
   "execution_count": 1,
   "metadata": {
    "tags": [
     "check version"
    ]
   },
   "outputs": [
    {
     "name": "stdout",
     "output_type": "stream",
     "text": [
      "Azure ML SDK Version:  1.0.10\n"
     ]
    }
   ],
   "source": [
    "%matplotlib inline\n",
    "import numpy as np\n",
    "import matplotlib.pyplot as plt\n",
    "\n",
    "import azureml.core\n",
    "from azureml.core import Workspace\n",
    "\n",
    "# check core SDK version number\n",
    "print(\"Azure ML SDK Version: \", azureml.core.VERSION)"
   ]
  },
  {
   "cell_type": "markdown",
   "metadata": {},
   "source": [
    "### Connect to workspace\n",
    "\n",
    "Create a workspace object from the existing workspace. `Workspace.from_config()` reads the file **config.json** and loads the details into an object named `ws`. Download **config.json** from your Azure ML workspace page in the Azure ML portal."
   ]
  },
  {
   "cell_type": "code",
   "execution_count": 2,
   "metadata": {
    "tags": [
     "load workspace"
    ]
   },
   "outputs": [
    {
     "name": "stdout",
     "output_type": "stream",
     "text": [
      "Found the config file in: /home/naotous/pillidfast/users/naotous/health-intelligence/PillID/azureml_showcase/config.json\n",
      "pillid-example\twestus2\tpillid-example\twestus2\n"
     ]
    }
   ],
   "source": [
    "# load workspace configuration from the config.json file in the current folder.\n",
    "ws = Workspace.from_config()\n",
    "print(ws.name, ws.location, ws.resource_group, ws.location, sep='\\t')"
   ]
  },
  {
   "cell_type": "markdown",
   "metadata": {},
   "source": [
    "### Create experiment\n",
    "\n",
    "Create an experiment to track the runs in your workspace. A workspace can have muliple experiments. "
   ]
  },
  {
   "cell_type": "code",
   "execution_count": 3,
   "metadata": {
    "tags": [
     "create experiment"
    ]
   },
   "outputs": [],
   "source": [
    "experiment_name = 'pillid-example'\n",
    "\n",
    "from azureml.core import Experiment\n",
    "exp = Experiment(workspace=ws, name=experiment_name)"
   ]
  },
  {
   "cell_type": "markdown",
   "metadata": {},
   "source": [
    "### Create or Attach existing compute resource\n",
    "By using Azure Machine Learning Compute, a managed service, data scientists can train machine learning models on clusters of Azure virtual machines. Examples include VMs with GPU support. In this tutorial, you create Azure Machine Learning Compute as your training environment. The code below creates the compute clusters for you if they don't already exist in your workspace. You can also create clusters from the portal.\n",
    "\n",
    "**Creation of compute takes approximately 5 minutes.** If the AmlCompute with that name is already in your workspace the code will skip the creation process."
   ]
  },
  {
   "cell_type": "code",
   "execution_count": 4,
   "metadata": {
    "tags": [
     "create mlc",
     "amlcompute"
    ]
   },
   "outputs": [
    {
     "name": "stdout",
     "output_type": "stream",
     "text": [
      "found compute target. just use it. gpu-cluster\n"
     ]
    }
   ],
   "source": [
    "from azureml.core.compute import AmlCompute\n",
    "from azureml.core.compute import ComputeTarget\n",
    "import os\n",
    "\n",
    "# choose a name for your cluster\n",
    "compute_name = os.environ.get(\"AML_COMPUTE_CLUSTER_NAME\", \"gpu-cluster\")\n",
    "compute_min_nodes = os.environ.get(\"AML_COMPUTE_CLUSTER_MIN_NODES\", 0)\n",
    "compute_max_nodes = os.environ.get(\"AML_COMPUTE_CLUSTER_MAX_NODES\", 4)\n",
    "\n",
    "# This example uses K80 VM. \n",
    "# Available GPUs: https://docs.microsoft.com/en-us/azure/virtual-machines/windows/sizes-gpu\n",
    "vm_size = os.environ.get(\"AML_COMPUTE_CLUSTER_SKU\", \"Standard_NC6\")\n",
    "\n",
    "\n",
    "if compute_name in ws.compute_targets:\n",
    "    compute_target = ws.compute_targets[compute_name]\n",
    "    if compute_target and type(compute_target) is AmlCompute:\n",
    "        print('found compute target. just use it. ' + compute_name)\n",
    "else:\n",
    "    print('creating a new compute target...')\n",
    "    provisioning_config = AmlCompute.provisioning_configuration(vm_size = vm_size,\n",
    "                                                                min_nodes = compute_min_nodes, \n",
    "                                                                max_nodes = compute_max_nodes)\n",
    "\n",
    "    # create the cluster\n",
    "    compute_target = ComputeTarget.create(ws, compute_name, provisioning_config)\n",
    "    \n",
    "    # can poll for a minimum number of nodes and for a specific timeout. \n",
    "    # if no min node count is provided it will use the scale settings for the cluster\n",
    "    compute_target.wait_for_completion(show_output=True, min_node_count=None, timeout_in_minutes=20)\n",
    "    \n",
    "     # For a more detailed view of current AmlCompute status, use get_status()\n",
    "    print(compute_target.get_status().serialize())"
   ]
  },
  {
   "cell_type": "markdown",
   "metadata": {},
   "source": [
    "You now have the necessary packages and compute resources to train a model in the cloud. \n",
    "\n",
    "## Explore data\n",
    "\n",
    "Before you train a model, you need to understand the data that you are using to train it.  You also need to copy the data into the cloud so it can be accessed by your cloud training environment.  In this section you learn how to:\n",
    "\n",
    "* Download the dataset\n",
    "* Display some sample images\n",
    "* Upload data to the cloud\n",
    "\n",
    "### Download the  dataset\n",
    "\n",
    "In 2016, the National Library of Medicine (NLM) of National Institutes of Health (NIH) hosted the Pill Image Recognition Challenge [NIH NLM Pill Image Recognition Challenge dataset](https://pir.nlm.nih.gov/challenge/). In this tutorial, we use a subset of the images for simplicity."
   ]
  },
  {
   "cell_type": "code",
   "execution_count": 5,
   "metadata": {},
   "outputs": [
    {
     "data": {
      "text/plain": [
       "('/home/naotous/pillidfast/users/naotous/health-intelligence/PillID/azureml_showcase/data/pill_recognition_azureml_sample.zip',\n",
       " <http.client.HTTPMessage at 0x7f40e2ab69b0>)"
      ]
     },
     "execution_count": 5,
     "metadata": {},
     "output_type": "execute_result"
    }
   ],
   "source": [
    "import urllib.request\n",
    "\n",
    "data_folder = os.path.join(os.getcwd(), 'data')\n",
    "os.makedirs(data_folder, exist_ok=True)\n",
    "\n",
    "filename = \"pill_recognition_azureml_sample.zip\"\n",
    "local_path = os.path.join(data_folder, filename)\n",
    "urllib.request.urlretrieve('https://pillidwus2.blob.core.windows.net/public/' + filename, filename=local_path)"
   ]
  },
  {
   "cell_type": "code",
   "execution_count": 6,
   "metadata": {},
   "outputs": [],
   "source": [
    "# This will take a couple of minutes to unzip the image files\n",
    "from zipfile import ZipFile\n",
    "\n",
    "with ZipFile(local_path, 'r') as zf:\n",
    "    zf.extractall(data_folder)"
   ]
  },
  {
   "cell_type": "markdown",
   "metadata": {},
   "source": [
    "### Display some sample images\n",
    "\n",
    "Use `matplotlib` to plot random images from the downloaded dataset."
   ]
  },
  {
   "cell_type": "code",
   "execution_count": 7,
   "metadata": {},
   "outputs": [
    {
     "data": {
      "image/png": "[encoded data removed]",
      "text/plain": [
       "<Figure size 1152x432 with 6 Axes>"
      ]
     },
     "metadata": {
      "needs_background": "light"
     },
     "output_type": "display_data"
    }
   ],
   "source": [
    "from glob import glob\n",
    "\n",
    "imgs = glob(os.path.join(data_folder, \"pill_recognition_azureml_sample\", \"imgs\", \"*.jpg\"))\n",
    "\n",
    "# now let's show some randomly chosen images\n",
    "sample_size = 6\n",
    "plt.figure(figsize = (16, 6))\n",
    "for i, p in enumerate(np.random.permutation(imgs)[:sample_size]):\n",
    "    plt.subplot(1, sample_size, i + 1)\n",
    "    plt.axhline('')\n",
    "    plt.axvline('')\n",
    "    img = plt.imread(p)\n",
    "    plt.imshow(img)\n",
    "\n",
    "plt.show()"
   ]
  },
  {
   "cell_type": "markdown",
   "metadata": {},
   "source": [
    "Now you have an idea of what these images look like and the expected prediction outcome.\n",
    "\n",
    "### Upload data to the cloud (Azure blob storage)\n",
    "\n",
    "Now make the data accessible remotely by uploading that data from your local machine into Azure so it can be accessed for remote training. The datastore is a convenient construct associated with your workspace for you to upload/download data, and interact with it from your remote compute targets. It is backed by Azure blob storage account.\n",
    "\n",
    "The files are uploaded into a directory named `pillid_example` at the root of the datastore.\n",
    "\n",
    "Alternatively, you can upload the files using [Azure Storage Explorer](https://azure.microsoft.com/en-us/features/storage-explorer/) or mounting the blob as a file system. You cna get the blob information from the Azure-ML workspace page.\n",
    "\n",
    "- [How to mount Blob storage as a file system with blobfuse](https://docs.microsoft.com/en-us/azure/storage/blobs/storage-how-to-mount-container-linux)"
   ]
  },
  {
   "cell_type": "code",
   "execution_count": 8,
   "metadata": {
    "tags": [
     "use datastore"
    ]
   },
   "outputs": [],
   "source": [
    "ds = ws.get_default_datastore()\n",
    "print(ds.datastore_type, ds.account_name, ds.container_name)\n",
    "\n",
    "ds.upload(src_dir=data_folder, target_path='pillid_example', overwrite=True, show_progress=True)"
   ]
  },
  {
   "cell_type": "markdown",
   "metadata": {},
   "source": [
    "## Training script\n",
    "\n",
    "The main training script is `scripts/train.py`. The training script takes an argument to find the directory containing the data. When you submit the job later, you point to the datastore for this argument: `parser.add_argument('--data_root_dir')`.\n",
    "\n",
    "The only Azure-ML related codes in the script are for metrics tracking:\n",
    "```\n",
    "import azureml.core.run\n",
    "# get hold of the current Azure-ML run\n",
    "run = azureml.core.run.Run.get_context()\n",
    "\n",
    "run.log('train_loss', train_loss)\n",
    "```\n",
    "More details [here](https://docs.microsoft.com/en-us/azure/machine-learning/service/how-to-track-experiments) for tracking your experiments and monitoring metrics.\n",
    "\n",
    "When the script is running outside Azure ML (e.g. local VM), `run.log` just outputs to the stdout.\n",
    "\n",
    "### Running/Debugging the script without Azure ML\n",
    "\n",
    "- You can use the same script without any modifications\n",
    " - Azure-ML related lines (e.g. `run.log`) don't throws errors when the script is running outside Azure-ML clusters.\n",
    "- Use the same Docker image\n",
    " - You can use the same Docker image that you use for Azure ML. You can upload your custom Docker image to Docker Hub or Azure Docker Registry.\n",
    "- Use the same data\n",
    "  - The script takes the path to the directory as an argument (`--data_root_dir`). You can [mount the blob as a file system on your Linux VM](https://docs.microsoft.com/en-us/azure/storage/blobs/storage-how-to-mount-container-linux), then you can test your script using the same files."
   ]
  },
  {
   "cell_type": "markdown",
   "metadata": {},
   "source": [
    "### Create an estimator\n",
    "\n",
    "An estimator object is used to submit the run. Azure Machine Learning has pre-configured estimators for common machine learning frameworks, as well as generic Estimator. In this tutorial, we use the generic Estimator and specify a custom Docker image from Docker Hub.\n",
    "\n",
    "* The name of the estimator object, `est`\n",
    "* The directory that contains your scripts. All the files in this directory are uploaded into the cluster nodes for execution. \n",
    "* The compute target.  In this case you will use the AmlCompute you created\n",
    "* The training script name, train.py\n",
    "* Parameters required from the training script \n",
    "\n",
    "In this tutorial, this target is AmlCompute. All files in the script folder are uploaded into the cluster nodes for execution. The data_folder is set to use the datastore (`ds.path('pillid_example/pill_recognition_azureml_sampl').as_mount()`)."
   ]
  },
  {
   "cell_type": "code",
   "execution_count": 9,
   "metadata": {},
   "outputs": [],
   "source": [
    "from azureml.core import RunConfiguration\n",
    "\n",
    "rc = RunConfiguration()\n",
    "rc.max_run_duration_seconds = 60 * 60\n",
    "rc.environment.docker.enabled = True\n",
    "\n",
    "# In this example, we use a public image on Docker Hub\n",
    "# You can build your custom image and push it to Docker Hub or Azure Docker Registry.\n",
    "rc.environment.docker.base_image = \"naotous/pytorch-image:py36torch041\"\n",
    "rc.environment.docker.gpu_support = True\n",
    "\n",
    "# provide username/password if it's private\n",
    "#rc.environment.docker.base_image_registry.address = \"\"\n",
    "#rc.environment.docker.base_image_registry.username = \"\"\n",
    "#rc.environment.docker.base_image_registry.password = \"\"\n",
    "\n",
    "# don't let the system build a new conda environment\n",
    "rc.environment.python.user_managed_dependencies = True\n",
    "# point to an existing python environment in the Docker image\n",
    "rc.environment.python.interpreter_path = '/app/miniconda/envs/py36/bin/python'\n",
    "\n",
    "from azureml.train.estimator import Estimator\n",
    "\n",
    "script_params = {'--data_root_dir': ds.path('pillid_example/pill_recognition_azureml_sample').as_mount()}\n",
    "\n",
    "est = Estimator(source_directory='scripts',\n",
    "                script_params=script_params,\n",
    "                compute_target=compute_target,\n",
    "                entry_script='train.py',\n",
    "                environment_definition=rc.environment)"
   ]
  },
  {
   "cell_type": "markdown",
   "metadata": {},
   "source": [
    "This is what the mounting point looks like:"
   ]
  },
  {
   "cell_type": "code",
   "execution_count": 10,
   "metadata": {},
   "outputs": [
    {
     "name": "stdout",
     "output_type": "stream",
     "text": [
      "$AZUREML_DATAREFERENCE_f0a38d8b75f042cb86aaf557a60cf39a\n"
     ]
    }
   ],
   "source": [
    "print(ds.path('pillid_example/pill_recognition_azureml_sample').as_mount())"
   ]
  },
  {
   "cell_type": "markdown",
   "metadata": {},
   "source": [
    "### Submit the job to the cluster\n",
    "\n",
    "Run the experiment by submitting the estimator object. And you can navigate to Azure portal to monitor the run."
   ]
  },
  {
   "cell_type": "code",
   "execution_count": 11,
   "metadata": {
    "tags": [
     "remote run",
     "amlcompute",
     "scikit-learn"
    ]
   },
   "outputs": [
    {
     "data": {
      "text/html": [
       "<table style=\"width:100%\"><tr><th>Experiment</th><th>Id</th><th>Type</th><th>Status</th><th>Details Page</th><th>Docs Page</th></tr><tr><td>pillid-example</td><td>pillid-example_1561769797_b77e182c</td><td>azureml.scriptrun</td><td>Starting</td><td><a href=\"https://mlworkspace.azure.ai/portal/subscriptions/ad85ffd7-23ff-463d-b2cf-54dfd107501a/resourceGroups/pillid-example/providers/Microsoft.MachineLearningServices/workspaces/pillid-example/experiments/pillid-example/runs/pillid-example_1561769797_b77e182c\" target=\"_blank\" rel=\"noopener\">Link to Azure Portal</a></td><td><a href=\"https://docs.microsoft.com/en-us/python/api/azureml-core/azureml.core.script_run.ScriptRun?view=azure-ml-py\" target=\"_blank\" rel=\"noopener\">Link to Documentation</a></td></tr></table>"
      ],
      "text/plain": [
       "Run(Experiment: pillid-example,\n",
       "Id: pillid-example_1561769797_b77e182c,\n",
       "Type: azureml.scriptrun,\n",
       "Status: Starting)"
      ]
     },
     "execution_count": 11,
     "metadata": {},
     "output_type": "execute_result"
    }
   ],
   "source": [
    "run = exp.submit(config=est)\n",
    "run"
   ]
  },
  {
   "cell_type": "markdown",
   "metadata": {},
   "source": [
    "Since the call is asynchronous, it returns a **Preparing** or **Running** state as soon as the job is started.\n",
    "\n",
    "## Monitor a remote run\n",
    "\n",
    "In total, the first run takes **approximately 10 minutes**.\n",
    "\n",
    "Here is what's happening while you wait:\n",
    "\n",
    "- **Docker image preparation**: A Docker image is downloaded from the registry specified by the estimator. \n",
    "\n",
    "  This stage happens once for each Python environment since the container is cached for subsequent runs and hence the container start up time is much faster. During image preparation, logs are streamed to the run history. \n",
    "\n",
    "- **Scaling**: If the remote cluster requires more nodes to execute the run than currently available, additional nodes are added automatically. Scaling typically takes **about 5 minutes.**\n",
    "\n",
    "- **Running**: In this stage, the necessary scripts and files are sent to the compute target, then data stores are mounted/copied, then the entry_script is run. While the job is running, stdout and the files in the ./logs directory are streamed to the run history. You can monitor the run's progress using these logs.\n",
    "\n",
    "- **Post-Processing**: The ./outputs directory of the run is copied over to the run history in your workspace so you can access these results.\n",
    "\n",
    "\n",
    "You can check the progress of a running job in multiple ways. This tutorial uses a Jupyter widget. You can also check them on the Azure ML portal.\n",
    "\n",
    "### Jupyter widget\n",
    "\n",
    "Watch the progress of the run with a Jupyter widget.  Like the run submission, the widget is asynchronous and provides live updates every 10-15 seconds until the job completes."
   ]
  },
  {
   "cell_type": "code",
   "execution_count": 12,
   "metadata": {
    "tags": [
     "use notebook widget"
    ]
   },
   "outputs": [
    {
     "data": {
      "application/vnd.jupyter.widget-view+json": {
       "model_id": "8dd4a059b45f47d6b4844766137697ff",
       "version_major": 2,
       "version_minor": 0
      },
      "text/plain": [
       "_UserRunWidget(widget_settings={'childWidgetDisplay': 'popup', 'send_telemetry': False, 'log_level': 'INFO', '…"
      ]
     },
     "metadata": {},
     "output_type": "display_data"
    }
   ],
   "source": [
    "from azureml.widgets import RunDetails\n",
    "RunDetails(run).show()"
   ]
  },
  {
   "cell_type": "markdown",
   "metadata": {},
   "source": [
    "By the way, if you need to cancel a run, you can follow [these instructions](https://aka.ms/aml-docs-cancel-run)."
   ]
  },
  {
   "cell_type": "markdown",
   "metadata": {},
   "source": [
    "### Display run results\n",
    "\n",
    "You now have a model trained on a remote cluster.  Retrieve all the metrics logged during the run, including the accuracy of the model:"
   ]
  },
  {
   "cell_type": "code",
   "execution_count": 13,
   "metadata": {
    "tags": [
     "get metrics"
    ]
   },
   "outputs": [
    {
     "name": "stdout",
     "output_type": "stream",
     "text": [
      "{}\n"
     ]
    }
   ],
   "source": [
    "print(run.get_metrics())"
   ]
  },
  {
   "cell_type": "markdown",
   "metadata": {},
   "source": [
    "## Distributed hyperparameter search"
   ]
  },
  {
   "cell_type": "code",
   "execution_count": 14,
   "metadata": {},
   "outputs": [],
   "source": [
    "from azureml.train import hyperdrive as hd\n",
    "\n",
    "hd_params = {        \n",
    "        '--network': hd.choice('resnet18', 'resnet34', 'resnet50', 'resnet101'),\n",
    "        '--init_lr': hd.choice(1e-3, 5e-4, 1e-4, 5e-5, 1e-5),\n",
    "}\n",
    "\n",
    "ps = hd.RandomParameterSampling(hd_params)\n",
    "policy = hd.BanditPolicy(evaluation_interval=2, slack_factor=0.25, delay_evaluation=5)\n",
    "\n",
    "hdc = hd.HyperDriveRunConfig(estimator=est,\n",
    "                             hyperparameter_sampling=ps,\n",
    "                             policy=policy,\n",
    "                             primary_metric_name='val_top1-acc',\n",
    "                             primary_metric_goal=hd.PrimaryMetricGoal.MAXIMIZE,\n",
    "                             max_total_runs=10,\n",
    "                             max_concurrent_runs=2)"
   ]
  },
  {
   "cell_type": "code",
   "execution_count": 15,
   "metadata": {},
   "outputs": [
    {
     "data": {
      "text/html": [
       "<table style=\"width:100%\"><tr><th>Experiment</th><th>Id</th><th>Type</th><th>Status</th><th>Details Page</th><th>Docs Page</th></tr><tr><td>pillid-example</td><td>pillid-example_1561769799946</td><td>hyperdrive</td><td>Running</td><td><a href=\"https://mlworkspace.azure.ai/portal/subscriptions/ad85ffd7-23ff-463d-b2cf-54dfd107501a/resourceGroups/pillid-example/providers/Microsoft.MachineLearningServices/workspaces/pillid-example/experiments/pillid-example/runs/pillid-example_1561769799946\" target=\"_blank\" rel=\"noopener\">Link to Azure Portal</a></td><td><a href=\"https://docs.microsoft.com/en-us/python/api/overview/azure/ml/intro?view=azure-ml-py\" target=\"_blank\" rel=\"noopener\">Link to Documentation</a></td></tr></table>"
      ],
      "text/plain": [
       "Run(Experiment: pillid-example,\n",
       "Id: pillid-example_1561769799946,\n",
       "Type: hyperdrive,\n",
       "Status: Running)"
      ]
     },
     "execution_count": 15,
     "metadata": {},
     "output_type": "execute_result"
    }
   ],
   "source": [
    "hd_run = exp.submit(config=hdc)\n",
    "hd_run"
   ]
  },
  {
   "cell_type": "code",
   "execution_count": 16,
   "metadata": {},
   "outputs": [
    {
     "data": {
      "application/vnd.jupyter.widget-view+json": {
       "model_id": "57c0071c39624709b8826346ad0a1dbd",
       "version_major": 2,
       "version_minor": 0
      },
      "text/plain": [
       "_HyperDriveWidget(widget_settings={'childWidgetDisplay': 'popup', 'send_telemetry': False, 'log_level': 'INFO'…"
      ]
     },
     "metadata": {},
     "output_type": "display_data"
    }
   ],
   "source": [
    "RunDetails(hd_run).show()"
   ]
  },
  {
   "cell_type": "markdown",
   "metadata": {},
   "source": [
    "## Next steps\n",
    "\n",
    "In this tutorial, we presented a simplified version of our work ([Nature Digital Medicine: Fast and accurate medication identification](https://www.nature.com/articles/s41746-019-0086-0)) using Azure ML:\n",
    "\n",
    "> * Set up your Azure ML development environment\n",
    "> * Access and examine the pill images dataset.\n",
    "> * Train multiple models on a remote cluster using PyTorch\n",
    "\n",
    "Here're some ideas for next steps:\n",
    "\n",
    "> * Expand the hyperparameter search space to other models and parameters\n",
    "> * Test the trained model on a holdout dataset (`folds/C48336_5folds_4.csv`)\n",
    "> * Register the trained model and deploy as a web API"
   ]
  },
  {
   "cell_type": "markdown",
   "metadata": {},
   "source": [
    "![Impressions](https://PixelServer20190423114238.azurewebsites.net/api/impressions/MachineLearningNotebooks/tutorials/img-classification-part1-training.png)"
   ]
  }
 ],
 "metadata": {
  "authors": [
   {
    "name": "roastala"
   }
  ],
  "kernelspec": {
   "display_name": "Python 3",
   "language": "python",
   "name": "python3"
  },
  "language_info": {
   "codemirror_mode": {
    "name": "ipython",
    "version": 3
   },
   "file_extension": ".py",
   "mimetype": "text/x-python",
   "name": "python",
   "nbconvert_exporter": "python",
   "pygments_lexer": "ipython3",
   "version": "3.6.5"
  },
  "msauthor": "roastala"
 },
 "nbformat": 4,
 "nbformat_minor": 2
}
